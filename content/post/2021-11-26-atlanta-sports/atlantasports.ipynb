{
 "cells": [
  {
   "cell_type": "code",
   "execution_count": 1,
   "metadata": {},
   "outputs": [],
   "source": [
    "import numpy as np\n",
    "import pandas as pd\n",
    "import matplotlib.pyplot as plt\n",
    "import requests #html requests\n",
    "from bs4 import BeautifulSoup #parse html documents\n",
    "import re"
   ]
  },
  {
   "cell_type": "markdown",
   "metadata": {},
   "source": [
    "## Braves"
   ]
  },
  {
   "cell_type": "code",
   "execution_count": 2,
   "metadata": {},
   "outputs": [
    {
     "name": "stderr",
     "output_type": "stream",
     "text": [
      "/home/james/anaconda3/lib/python3.8/site-packages/urllib3/connectionpool.py:1013: InsecureRequestWarning: Unverified HTTPS request is being made to host 'en.wikipedia.org'. Adding certificate verification is strongly advised. See: https://urllib3.readthedocs.io/en/latest/advanced-usage.html#ssl-warnings\n",
      "  warnings.warn(\n"
     ]
    },
    {
     "name": "stdout",
     "output_type": "stream",
     "text": [
      "200\n"
     ]
    }
   ],
   "source": [
    "#scrape wikipedia for win/loss data\n",
    "\n",
    "wikiurl=\"https://en.wikipedia.org/wiki/List_of_Atlanta_Braves_seasons\"\n",
    "table_class=\"wikitable sortable jquery-tablesorter\"\n",
    "response=requests.get(wikiurl, verify=False)\n",
    "print(response.status_code)"
   ]
  },
  {
   "cell_type": "code",
   "execution_count": 3,
   "metadata": {},
   "outputs": [],
   "source": [
    "#parse data from html\n",
    "\n",
    "soup = BeautifulSoup(response.text, 'html.parser')\n",
    "bravestable=soup.find('table',{'class':\"wikitable plainrowheaders\"})"
   ]
  },
  {
   "cell_type": "code",
   "execution_count": 4,
   "metadata": {},
   "outputs": [
    {
     "name": "stdout",
     "output_type": "stream",
     "text": [
      "              MLBseason            Teamseason                League  \\\n",
      "0  Boston Red Stockings  Boston Red Stockings  Boston Red Stockings   \n",
      "1                  1871                  1871                   NaN   \n",
      "2                  1872                  1872                  NA *   \n",
      "3                  1873                  1873                  NA *   \n",
      "4                  1874                  1874                  NA *   \n",
      "\n",
      "               Division                Finish                  Wins  \\\n",
      "0  Boston Red Stockings  Boston Red Stockings  Boston Red Stockings   \n",
      "1                   NaN                   3rd                    20   \n",
      "2                   NaN                   1st                    39   \n",
      "3                   NaN                   1st                    43   \n",
      "4                   NaN                   1st                    52   \n",
      "\n",
      "                 Losses                  Win%                    GB  \\\n",
      "0  Boston Red Stockings  Boston Red Stockings  Boston Red Stockings   \n",
      "1                    10                  .667                     2   \n",
      "2                     8                  .830                     —   \n",
      "3                    16                  .729                     —   \n",
      "4                    18                  .743                     —   \n",
      "\n",
      "             Postseason                Awards  \n",
      "0  Boston Red Stockings  Boston Red Stockings  \n",
      "1                   NaN                   NaN  \n",
      "2                   NaN                   NaN  \n",
      "3                   NaN                   NaN  \n",
      "4                   NaN                   NaN  \n"
     ]
    }
   ],
   "source": [
    "#read data into pandas dataframe\n",
    "\n",
    "braves=pd.read_html(str(bravestable))\n",
    "braves=pd.DataFrame(braves[0])\n",
    "print(braves.head())"
   ]
  },
  {
   "cell_type": "code",
   "execution_count": 5,
   "metadata": {},
   "outputs": [],
   "source": [
    "#clean data\n",
    "\n",
    "#filter down to relevant rows\n",
    "\n",
    "braves = braves[braves.index > 104]\n",
    "braves = braves[braves.index < 161]"
   ]
  },
  {
   "cell_type": "code",
   "execution_count": 6,
   "metadata": {},
   "outputs": [],
   "source": [
    "#filter down to relevant columns\n",
    "\n",
    "braves.drop(['MLBseason', 'League', 'Division', 'Finish', 'GB', 'Postseason', 'Awards', 'Wins', 'Losses'], \n",
    "            axis=1, inplace=True)\n",
    "\n",
    "#rename column for convenience\n",
    "\n",
    "braves = braves.rename(columns = {'Teamseason': 'Season',\n",
    "                                 'Win%': 'Braves Wins'})"
   ]
  },
  {
   "cell_type": "code",
   "execution_count": 7,
   "metadata": {},
   "outputs": [],
   "source": [
    "#convert to appropriate data types\n",
    "braves['Braves Wins'] = braves['Braves Wins'].astype(float)\n",
    "braves['Season'] = braves['Season'].astype(int)"
   ]
  },
  {
   "cell_type": "code",
   "execution_count": 8,
   "metadata": {},
   "outputs": [
    {
     "data": {
      "text/html": [
       "<div>\n",
       "<style scoped>\n",
       "    .dataframe tbody tr th:only-of-type {\n",
       "        vertical-align: middle;\n",
       "    }\n",
       "\n",
       "    .dataframe tbody tr th {\n",
       "        vertical-align: top;\n",
       "    }\n",
       "\n",
       "    .dataframe thead th {\n",
       "        text-align: right;\n",
       "    }\n",
       "</style>\n",
       "<table border=\"1\" class=\"dataframe\">\n",
       "  <thead>\n",
       "    <tr style=\"text-align: right;\">\n",
       "      <th></th>\n",
       "      <th>Season</th>\n",
       "      <th>Braves Wins</th>\n",
       "    </tr>\n",
       "  </thead>\n",
       "  <tbody>\n",
       "    <tr>\n",
       "      <th>105</th>\n",
       "      <td>1966</td>\n",
       "      <td>0.525</td>\n",
       "    </tr>\n",
       "    <tr>\n",
       "      <th>106</th>\n",
       "      <td>1967</td>\n",
       "      <td>0.475</td>\n",
       "    </tr>\n",
       "    <tr>\n",
       "      <th>107</th>\n",
       "      <td>1968</td>\n",
       "      <td>0.500</td>\n",
       "    </tr>\n",
       "    <tr>\n",
       "      <th>108</th>\n",
       "      <td>1969</td>\n",
       "      <td>0.574</td>\n",
       "    </tr>\n",
       "    <tr>\n",
       "      <th>109</th>\n",
       "      <td>1970</td>\n",
       "      <td>0.469</td>\n",
       "    </tr>\n",
       "  </tbody>\n",
       "</table>\n",
       "</div>"
      ],
      "text/plain": [
       "     Season  Braves Wins\n",
       "105    1966        0.525\n",
       "106    1967        0.475\n",
       "107    1968        0.500\n",
       "108    1969        0.574\n",
       "109    1970        0.469"
      ]
     },
     "execution_count": 8,
     "metadata": {},
     "output_type": "execute_result"
    }
   ],
   "source": [
    "braves.head()"
   ]
  },
  {
   "cell_type": "code",
   "execution_count": 9,
   "metadata": {},
   "outputs": [
    {
     "data": {
      "text/plain": [
       "Season           int64\n",
       "Braves Wins    float64\n",
       "dtype: object"
      ]
     },
     "execution_count": 9,
     "metadata": {},
     "output_type": "execute_result"
    }
   ],
   "source": [
    "braves.dtypes"
   ]
  },
  {
   "cell_type": "markdown",
   "metadata": {},
   "source": [
    "## Falcons"
   ]
  },
  {
   "cell_type": "code",
   "execution_count": 10,
   "metadata": {},
   "outputs": [
    {
     "name": "stderr",
     "output_type": "stream",
     "text": [
      "/home/james/anaconda3/lib/python3.8/site-packages/urllib3/connectionpool.py:1013: InsecureRequestWarning: Unverified HTTPS request is being made to host 'en.wikipedia.org'. Adding certificate verification is strongly advised. See: https://urllib3.readthedocs.io/en/latest/advanced-usage.html#ssl-warnings\n",
      "  warnings.warn(\n"
     ]
    },
    {
     "name": "stdout",
     "output_type": "stream",
     "text": [
      "200\n"
     ]
    }
   ],
   "source": [
    "#scrape wikipedia for win/loss data\n",
    "\n",
    "wikiurl=\"https://en.wikipedia.org/wiki/List_of_Atlanta_Falcons_seasons\"\n",
    "table_class=\"wikitable sortable jquery-tablesorter\"\n",
    "response=requests.get(wikiurl, verify=False)\n",
    "print(response.status_code)"
   ]
  },
  {
   "cell_type": "code",
   "execution_count": 11,
   "metadata": {},
   "outputs": [],
   "source": [
    "#parse data from html\n",
    "\n",
    "soup = BeautifulSoup(response.text, 'html.parser')\n",
    "falconstable=soup.find_all('table',{'class':\"wikitable\"})[1]"
   ]
  },
  {
   "cell_type": "code",
   "execution_count": 12,
   "metadata": {},
   "outputs": [
    {
     "name": "stdout",
     "output_type": "stream",
     "text": [
      "  Season  Team League Conference Division Regular season  \\\n",
      "  Season  Team League Conference Division         Finish   \n",
      "0   1966  1966    NFL    Eastern        —            7th   \n",
      "1   1967  1967    NFL    Western  Coastal            4th   \n",
      "2   1968  1968    NFL    Western  Coastal            4th   \n",
      "3   1969  1969    NFL    Western  Coastal            3rd   \n",
      "4   1970  1970    NFL        NFC     West            3rd   \n",
      "\n",
      "                                                                            \\\n",
      "  .mw-parser-output .tooltip-dotted{border-bottom:1px dotted;cursor:help}W   \n",
      "0                                                  3                         \n",
      "1                                                  1                         \n",
      "2                                                  2                         \n",
      "3                                                  6                         \n",
      "4                                                  4                         \n",
      "\n",
      "         Postseason results                  Awards  \\\n",
      "    L  T Postseason results                  Awards   \n",
      "0  11  0                NaN      Tommy Nobis (DROY)   \n",
      "1  12  1                NaN                     NaN   \n",
      "2  12  0                NaN  Claude Humphrey (DROY)   \n",
      "3   8  0                NaN                     NaN   \n",
      "4   8  2                NaN                     NaN   \n",
      "\n",
      "                                Head coaches  \n",
      "                                Head coaches  \n",
      "0                                Norb Hecker  \n",
      "1                                Norb Hecker  \n",
      "2  Norb Hecker (0–3) Norm Van Brocklin (2–9)  \n",
      "3                          Norm Van Brocklin  \n",
      "4                          Norm Van Brocklin  \n"
     ]
    }
   ],
   "source": [
    "#read data into pandas dataframe\n",
    "\n",
    "falcons=pd.read_html(str(falconstable))\n",
    "falcons=pd.DataFrame(falcons[0])\n",
    "print(falcons.head())"
   ]
  },
  {
   "cell_type": "code",
   "execution_count": 13,
   "metadata": {},
   "outputs": [
    {
     "name": "stderr",
     "output_type": "stream",
     "text": [
      "/home/james/anaconda3/lib/python3.8/site-packages/pandas/core/generic.py:4153: PerformanceWarning: dropping on a non-lexsorted multi-index without a level parameter may impact performance.\n",
      "  obj = obj._drop_axis(labels, axis, level=level, errors=errors)\n"
     ]
    }
   ],
   "source": [
    "#clean data\n",
    "\n",
    "#filter down to relevant columns\n",
    "\n",
    "falcons.drop(['Season', 'League', 'Conference', 'Division', 'Postseason results', 'Awards', 'Head coaches'], \n",
    "             axis=1, inplace=True)"
   ]
  },
  {
   "cell_type": "code",
   "execution_count": 14,
   "metadata": {},
   "outputs": [],
   "source": [
    "#remove multiindex\n",
    "\n",
    "falcons.columns = falcons.columns.get_level_values(1)"
   ]
  },
  {
   "cell_type": "code",
   "execution_count": 15,
   "metadata": {},
   "outputs": [],
   "source": [
    "#filter irrelevant columns and rename colums for convenience\n",
    "falcons.drop(['Finish', 'T'], axis=1, inplace=True)\n",
    "falcons = falcons.rename(columns={'.mw-parser-output .tooltip-dotted{border-bottom:1px dotted;cursor:help}W': 'W',\n",
    "                                 'Team' : 'Season'})\n",
    "\n",
    "#Calculate Win%\n",
    "\n",
    "falcons['Win%'] = falcons['W'] / (falcons['W'] + falcons['L'])\n",
    "falcons.drop(['W', 'L'], axis=1, inplace=True)\n",
    "\n",
    "falcons = falcons.rename(columns={'Win%' : 'Falcons Wins'})"
   ]
  },
  {
   "cell_type": "code",
   "execution_count": 16,
   "metadata": {},
   "outputs": [],
   "source": [
    "#convert to appropriate data types\n",
    "falcons['Season'] = falcons['Season'].astype(int)"
   ]
  },
  {
   "cell_type": "code",
   "execution_count": 17,
   "metadata": {},
   "outputs": [
    {
     "data": {
      "text/html": [
       "<div>\n",
       "<style scoped>\n",
       "    .dataframe tbody tr th:only-of-type {\n",
       "        vertical-align: middle;\n",
       "    }\n",
       "\n",
       "    .dataframe tbody tr th {\n",
       "        vertical-align: top;\n",
       "    }\n",
       "\n",
       "    .dataframe thead th {\n",
       "        text-align: right;\n",
       "    }\n",
       "</style>\n",
       "<table border=\"1\" class=\"dataframe\">\n",
       "  <thead>\n",
       "    <tr style=\"text-align: right;\">\n",
       "      <th></th>\n",
       "      <th>Season</th>\n",
       "      <th>Falcons Wins</th>\n",
       "    </tr>\n",
       "  </thead>\n",
       "  <tbody>\n",
       "    <tr>\n",
       "      <th>0</th>\n",
       "      <td>1966</td>\n",
       "      <td>0.214286</td>\n",
       "    </tr>\n",
       "    <tr>\n",
       "      <th>1</th>\n",
       "      <td>1967</td>\n",
       "      <td>0.076923</td>\n",
       "    </tr>\n",
       "    <tr>\n",
       "      <th>2</th>\n",
       "      <td>1968</td>\n",
       "      <td>0.142857</td>\n",
       "    </tr>\n",
       "    <tr>\n",
       "      <th>3</th>\n",
       "      <td>1969</td>\n",
       "      <td>0.428571</td>\n",
       "    </tr>\n",
       "    <tr>\n",
       "      <th>4</th>\n",
       "      <td>1970</td>\n",
       "      <td>0.333333</td>\n",
       "    </tr>\n",
       "  </tbody>\n",
       "</table>\n",
       "</div>"
      ],
      "text/plain": [
       "   Season  Falcons Wins\n",
       "0    1966      0.214286\n",
       "1    1967      0.076923\n",
       "2    1968      0.142857\n",
       "3    1969      0.428571\n",
       "4    1970      0.333333"
      ]
     },
     "execution_count": 17,
     "metadata": {},
     "output_type": "execute_result"
    }
   ],
   "source": [
    "falcons.head()"
   ]
  },
  {
   "cell_type": "code",
   "execution_count": 18,
   "metadata": {},
   "outputs": [
    {
     "data": {
      "text/plain": [
       "Season            int64\n",
       "Falcons Wins    float64\n",
       "dtype: object"
      ]
     },
     "execution_count": 18,
     "metadata": {},
     "output_type": "execute_result"
    }
   ],
   "source": [
    "falcons.dtypes"
   ]
  },
  {
   "cell_type": "markdown",
   "metadata": {},
   "source": [
    "## Hawks"
   ]
  },
  {
   "cell_type": "code",
   "execution_count": 19,
   "metadata": {},
   "outputs": [
    {
     "name": "stderr",
     "output_type": "stream",
     "text": [
      "/home/james/anaconda3/lib/python3.8/site-packages/urllib3/connectionpool.py:1013: InsecureRequestWarning: Unverified HTTPS request is being made to host 'en.wikipedia.org'. Adding certificate verification is strongly advised. See: https://urllib3.readthedocs.io/en/latest/advanced-usage.html#ssl-warnings\n",
      "  warnings.warn(\n"
     ]
    },
    {
     "name": "stdout",
     "output_type": "stream",
     "text": [
      "200\n"
     ]
    }
   ],
   "source": [
    "#scrape wikipedia for win/loss data\n",
    "\n",
    "wikiurl=\"https://en.wikipedia.org/wiki/List_of_Atlanta_Hawks_seasons\"\n",
    "table_class=\"wikitable sortable jquery-tablesorter\"\n",
    "response=requests.get(wikiurl, verify=False)\n",
    "print(response.status_code)"
   ]
  },
  {
   "cell_type": "code",
   "execution_count": 20,
   "metadata": {},
   "outputs": [],
   "source": [
    "#parse data from html\n",
    "\n",
    "soup = BeautifulSoup(response.text, 'html.parser')\n",
    "hawkstable=soup.find_all('table',{'class':\"wikitable\"})[2]"
   ]
  },
  {
   "cell_type": "code",
   "execution_count": 21,
   "metadata": {},
   "outputs": [
    {
     "name": "stdout",
     "output_type": "stream",
     "text": [
      "                                   Season  \\\n",
      "                                   Season   \n",
      "0  Buffalo Bisons / Tri-Cities Blackhawks   \n",
      "1                              1946–47[b]   \n",
      "2                   Tri-Cities Blackhawks   \n",
      "3                                 1947–48   \n",
      "4                                 1948–49   \n",
      "\n",
      "                                   League  \\\n",
      "                                   League   \n",
      "0  Buffalo Bisons / Tri-Cities Blackhawks   \n",
      "1                                     NBL   \n",
      "2                   Tri-Cities Blackhawks   \n",
      "3                                     NBL   \n",
      "4                                     NBL   \n",
      "\n",
      "                           Regular Season  \\\n",
      "                               Conference   \n",
      "0  Buffalo Bisons / Tri-Cities Blackhawks   \n",
      "1                                       —   \n",
      "2                   Tri-Cities Blackhawks   \n",
      "3                                       —   \n",
      "4                                       —   \n",
      "\n",
      "                                           \\\n",
      "                                   Finish   \n",
      "0  Buffalo Bisons / Tri-Cities Blackhawks   \n",
      "1                                     NaN   \n",
      "2                   Tri-Cities Blackhawks   \n",
      "3                                     NaN   \n",
      "4                                     NaN   \n",
      "\n",
      "                                           \\\n",
      "                                 Division   \n",
      "0  Buffalo Bisons / Tri-Cities Blackhawks   \n",
      "1                                 Eastern   \n",
      "2                   Tri-Cities Blackhawks   \n",
      "3                                 Western   \n",
      "4                                 Western   \n",
      "\n",
      "                                           \\\n",
      "                                 Finish.1   \n",
      "0  Buffalo Bisons / Tri-Cities Blackhawks   \n",
      "1                                     5th   \n",
      "2                   Tri-Cities Blackhawks   \n",
      "3                                     2nd   \n",
      "4                                     2nd   \n",
      "\n",
      "                                           \\\n",
      "                                     Wins   \n",
      "0  Buffalo Bisons / Tri-Cities Blackhawks   \n",
      "1                                      19   \n",
      "2                   Tri-Cities Blackhawks   \n",
      "3                                      30   \n",
      "4                                      36   \n",
      "\n",
      "                                           \\\n",
      "                                   Losses   \n",
      "0  Buffalo Bisons / Tri-Cities Blackhawks   \n",
      "1                                      25   \n",
      "2                   Tri-Cities Blackhawks   \n",
      "3                                      30   \n",
      "4                                      28   \n",
      "\n",
      "                                           \\\n",
      "                                     Win%   \n",
      "0  Buffalo Bisons / Tri-Cities Blackhawks   \n",
      "1                                    .432   \n",
      "2                   Tri-Cities Blackhawks   \n",
      "3                                    .500   \n",
      "4                                    .563   \n",
      "\n",
      "                                           \\\n",
      "                                       GB   \n",
      "0  Buffalo Bisons / Tri-Cities Blackhawks   \n",
      "1                                      12   \n",
      "2                   Tri-Cities Blackhawks   \n",
      "3                                      13   \n",
      "4                                       1   \n",
      "\n",
      "                                            Playoffs  \\\n",
      "                                            Playoffs   \n",
      "0             Buffalo Bisons / Tri-Cities Blackhawks   \n",
      "1                                                NaN   \n",
      "2                              Tri-Cities Blackhawks   \n",
      "3  Won Opening Round (Kautskys) 3–1 Lost Division...   \n",
      "4  Won Opening Round (Red Skins) 2–0Lost Division...   \n",
      "\n",
      "                                   Awards  \\\n",
      "                                   Awards   \n",
      "0  Buffalo Bisons / Tri-Cities Blackhawks   \n",
      "1                                     NaN   \n",
      "2                   Tri-Cities Blackhawks   \n",
      "3                                     NaN   \n",
      "4                         Don Otten (MVP)   \n",
      "\n",
      "                      Unnamed: 12_level_0  \\\n",
      "                      Unnamed: 12_level_1   \n",
      "0  Buffalo Bisons / Tri-Cities Blackhawks   \n",
      "1                                     NaN   \n",
      "2                   Tri-Cities Blackhawks   \n",
      "3                                     NaN   \n",
      "4                                     NaN   \n",
      "\n",
      "                      Unnamed: 13_level_0  \\\n",
      "                      Unnamed: 13_level_1   \n",
      "0  Buffalo Bisons / Tri-Cities Blackhawks   \n",
      "1                                     NaN   \n",
      "2                   Tri-Cities Blackhawks   \n",
      "3                                     NaN   \n",
      "4                                     NaN   \n",
      "\n",
      "                      Unnamed: 14_level_0  \n",
      "                      Unnamed: 14_level_1  \n",
      "0  Buffalo Bisons / Tri-Cities Blackhawks  \n",
      "1                                     NaN  \n",
      "2                   Tri-Cities Blackhawks  \n",
      "3                                     NaN  \n",
      "4                                     NaN  \n"
     ]
    }
   ],
   "source": [
    "#read data into pandas dataframe\n",
    "\n",
    "hawks=pd.read_html(str(hawkstable))\n",
    "hawks=pd.DataFrame(hawks[0])\n",
    "print(hawks.head())"
   ]
  },
  {
   "cell_type": "code",
   "execution_count": 22,
   "metadata": {},
   "outputs": [],
   "source": [
    "#clean data\n",
    "\n",
    "#remove multiindex\n",
    "\n",
    "hawks.columns = hawks.columns.get_level_values(1)"
   ]
  },
  {
   "cell_type": "code",
   "execution_count": 23,
   "metadata": {
    "scrolled": true
   },
   "outputs": [],
   "source": [
    "#filter down to relevant rows\n",
    "\n",
    "hawks = hawks[hawks.index > 26]"
   ]
  },
  {
   "cell_type": "code",
   "execution_count": 24,
   "metadata": {
    "scrolled": true
   },
   "outputs": [],
   "source": [
    "#filter down to relevant colums\n",
    "\n",
    "hawks.drop(['League', 'Conference', 'Finish', 'Division', 'Finish.1', 'GB', 'Playoffs', 'Awards',\n",
    "           'Unnamed: 12_level_1', 'Unnamed: 13_level_1', 'Unnamed: 14_level_1', 'Wins', 'Losses'], axis=1, inplace=True)"
   ]
  },
  {
   "cell_type": "code",
   "execution_count": 25,
   "metadata": {},
   "outputs": [],
   "source": [
    "#change seasons to single year for easy comparison\n",
    "\n",
    "hawks['Season'] = hawks['Season'].str.extract('^(\\d{4})')"
   ]
  },
  {
   "cell_type": "code",
   "execution_count": 26,
   "metadata": {},
   "outputs": [],
   "source": [
    "#rename column to 'Hawks Wins'\n",
    "\n",
    "hawks = hawks.rename(columns={'Win%' : 'Hawks Wins'})"
   ]
  },
  {
   "cell_type": "code",
   "execution_count": 27,
   "metadata": {},
   "outputs": [],
   "source": [
    "#convert to appropriate data types\n",
    "\n",
    "hawks['Hawks Wins'] = hawks['Hawks Wins'].astype(float)\n",
    "hawks['Season'] = hawks['Season'].astype(int)"
   ]
  },
  {
   "cell_type": "code",
   "execution_count": 28,
   "metadata": {
    "scrolled": true
   },
   "outputs": [
    {
     "data": {
      "text/html": [
       "<div>\n",
       "<style scoped>\n",
       "    .dataframe tbody tr th:only-of-type {\n",
       "        vertical-align: middle;\n",
       "    }\n",
       "\n",
       "    .dataframe tbody tr th {\n",
       "        vertical-align: top;\n",
       "    }\n",
       "\n",
       "    .dataframe thead th {\n",
       "        text-align: right;\n",
       "    }\n",
       "</style>\n",
       "<table border=\"1\" class=\"dataframe\">\n",
       "  <thead>\n",
       "    <tr style=\"text-align: right;\">\n",
       "      <th></th>\n",
       "      <th>Season</th>\n",
       "      <th>Hawks Wins</th>\n",
       "    </tr>\n",
       "  </thead>\n",
       "  <tbody>\n",
       "    <tr>\n",
       "      <th>27</th>\n",
       "      <td>1968</td>\n",
       "      <td>0.585</td>\n",
       "    </tr>\n",
       "    <tr>\n",
       "      <th>28</th>\n",
       "      <td>1969</td>\n",
       "      <td>0.585</td>\n",
       "    </tr>\n",
       "    <tr>\n",
       "      <th>29</th>\n",
       "      <td>1970</td>\n",
       "      <td>0.439</td>\n",
       "    </tr>\n",
       "    <tr>\n",
       "      <th>30</th>\n",
       "      <td>1971</td>\n",
       "      <td>0.439</td>\n",
       "    </tr>\n",
       "    <tr>\n",
       "      <th>31</th>\n",
       "      <td>1972</td>\n",
       "      <td>0.561</td>\n",
       "    </tr>\n",
       "  </tbody>\n",
       "</table>\n",
       "</div>"
      ],
      "text/plain": [
       "    Season  Hawks Wins\n",
       "27    1968       0.585\n",
       "28    1969       0.585\n",
       "29    1970       0.439\n",
       "30    1971       0.439\n",
       "31    1972       0.561"
      ]
     },
     "execution_count": 28,
     "metadata": {},
     "output_type": "execute_result"
    }
   ],
   "source": [
    "hawks.head()"
   ]
  },
  {
   "cell_type": "code",
   "execution_count": 29,
   "metadata": {},
   "outputs": [
    {
     "data": {
      "text/plain": [
       "Season          int64\n",
       "Hawks Wins    float64\n",
       "dtype: object"
      ]
     },
     "execution_count": 29,
     "metadata": {},
     "output_type": "execute_result"
    }
   ],
   "source": [
    "hawks.dtypes"
   ]
  },
  {
   "cell_type": "markdown",
   "metadata": {},
   "source": [
    "## ATL Sports"
   ]
  },
  {
   "cell_type": "code",
   "execution_count": 30,
   "metadata": {},
   "outputs": [],
   "source": [
    "#merge dataframes\n",
    "\n",
    "atl = braves.merge(falcons, 'outer', on='Season').merge(hawks, 'outer', on='Season')"
   ]
  },
  {
   "cell_type": "code",
   "execution_count": 31,
   "metadata": {},
   "outputs": [],
   "source": [
    "#remove years with incomplete data\n",
    "\n",
    "atl = atl[atl.index > 1]\n",
    "atl = atl[atl.index < 55]"
   ]
  },
  {
   "cell_type": "code",
   "execution_count": 32,
   "metadata": {},
   "outputs": [],
   "source": [
    "#make 'Season' the index\n",
    "atl.set_index('Season', inplace=True)"
   ]
  },
  {
   "cell_type": "code",
   "execution_count": 33,
   "metadata": {},
   "outputs": [],
   "source": [
    "#Calculate 10-year rolling average\n",
    "\n",
    "atl['Braves'] = atl['Braves Wins'].rolling(window=10, min_periods=1, center=True).mean()\n",
    "atl['Falcons'] = atl['Falcons Wins'].rolling(window=10, min_periods=1, center=True).mean()\n",
    "atl['Hawks'] = atl['Hawks Wins'].rolling(window=10, min_periods=1, center=True).mean()"
   ]
  },
  {
   "cell_type": "code",
   "execution_count": 74,
   "metadata": {
    "scrolled": true
   },
   "outputs": [
    {
     "data": {
      "image/png": "[encoded data removed]",
      "text/plain": [
       "<Figure size 864x432 with 1 Axes>"
      ]
     },
     "metadata": {},
     "output_type": "display_data"
    }
   ],
   "source": [
    "fig = plt.figure(figsize=(12, 6), facecolor=\"white\")\n",
    "plt.plot(atl['Braves'], color='tab:red')\n",
    "plt.plot(atl['Falcons'], color='black')\n",
    "plt.plot(atl['Hawks'], color='tab:blue')\n",
    "\n",
    "#add labels to ends of line\n",
    "\n",
    "ax= plt.gca()\n",
    "\n",
    "ax.annotate(text='Braves', xy=(2021, atl['Braves'].iloc[-1]), color='tab:red')\n",
    "ax.annotate(text='Falcons', xy=(2021, atl['Falcons'].iloc[-1]), color='black')\n",
    "ax.annotate(text='Hawks', xy=(2021, atl['Hawks'].iloc[-1]), color='tab:blue')\n",
    "\n",
    "#remove frame\n",
    "ax.spines['top'].set_visible(False)\n",
    "ax.spines['right'].set_visible(False)\n",
    "ax.spines['bottom'].set_visible(False)\n",
    "ax.spines['left'].set_visible(False)\n",
    "\n",
    "#remove ticks\n",
    "ax.tick_params(\n",
    "    axis='both',         \n",
    "    which='both',  \n",
    "    bottom=False,  \n",
    "    left=False)\n",
    "\n",
    "#reduce tick labels\n",
    "ax.locator_params(axis='y', nbins=4)\n",
    "plt.xticks(alpha=0.6)\n",
    "plt.yticks(alpha=0.6)\n",
    "\n",
    "#add grid lines\n",
    "ax.grid(alpha=0.2)\n",
    "\n",
    "#title and axis labels\n",
    "plt.title('Atlanta Major League Sports Win %\\n10-year rolling average, 1968-2020', alpha=0.8)\n",
    "plt.ylabel('Win %', alpha=0.6)\n",
    "\n",
    "#add caption\n",
    "plt.figtext(0.88, 0.01, '\\n\\njamesphare.org\\nSource: Wikipedia', ha='right', alpha=0.6)\n",
    "\n",
    "plt.savefig('atlsports.png')\n",
    "\n",
    "plt.show()"
   ]
  },
  {
   "cell_type": "code",
   "execution_count": null,
   "metadata": {},
   "outputs": [],
   "source": []
  }
 ],
 "metadata": {
  "kernelspec": {
   "display_name": "Python 3",
   "language": "python",
   "name": "python3"
  },
  "language_info": {
   "codemirror_mode": {
    "name": "ipython",
    "version": 3
   },
   "file_extension": ".py",
   "mimetype": "text/x-python",
   "name": "python",
   "nbconvert_exporter": "python",
   "pygments_lexer": "ipython3",
   "version": "3.8.8"
  }
 },
 "nbformat": 4,
 "nbformat_minor": 1
}
